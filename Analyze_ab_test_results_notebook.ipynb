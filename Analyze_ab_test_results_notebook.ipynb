{
 "cells": [
  {
   "cell_type": "markdown",
   "metadata": {},
   "source": [
    "## Analyze A/B Test Results\n",
    "\n",

    "## Table of Contents\n",
    "- [Introduction](#intro)\n",
    "- [Part I - Probability](#probability)\n",
    "- [Part II - A/B Test](#ab_test)\n",
    "- [Part III - Regression](#regression)\n",
    "\n",
    "\n",
    "<a id='intro'></a>\n",
    "### Introduction\n",
    "\n",
    "A/B tests are very commonly performed by data analysts and data scientists.  It is important that you get some practice working with the difficulties of these \n",
    "\n",
    "For this project, you will be working to understand the results of an A/B test run by an e-commerce website. 
    "\n",
    "\n",
    "<a id='probability'></a>\n",
    "#### Part I - Probability\n",
    "\n",
    "To get started, let's import our libraries."
   ]
  },
  {
   "cell_type": "code",
   "execution_count": 1,
   "metadata": {},
   "outputs": [],
   "source": [
    "import pandas as pd\n",
    "import numpy as np\n",
    "import random\n",
    "import matplotlib.pyplot as plt\n",
    "%matplotlib inline\n",
    "#We are setting the seed to assure you get the same answers on quizzes as we set up\n",
    "random.seed(42)"
   ]
  },
  {
   "cell_type": "markdown",
   "metadata": {},
   "source": [
    "`1.` Now, read in the `ab_data.csv` data. Store it in `df`.\n",
    "\n",
    "a. Read in the dataset and take a look at the top few rows here:"
   ]
  },
  {
   "cell_type": "code",
   "execution_count": 2,
   "metadata": {},
   "outputs": [
    {
     "name": "stdout",
     "output_type": "stream",
     "text": [
      "<class 'pandas.core.frame.DataFrame'>\n",
      "RangeIndex: 294478 entries, 0 to 294477\n",
      "Data columns (total 5 columns):\n",
      " #   Column        Non-Null Count   Dtype \n",
      "---  ------        --------------   ----- \n",
      " 0   user_id       294478 non-null  int64 \n",
      " 1   timestamp     294478 non-null  object\n",
      " 2   group         294478 non-null  object\n",
      " 3   landing_page  294478 non-null  object\n",
      " 4   converted     294478 non-null  int64 \n",
      "dtypes: int64(2), object(3)\n",
      "memory usage: 11.2+ MB\n"
     ]
    }
   ],
   "source": [
    "df = pd.read_csv('ab_data.csv')\n",
    "df.info()"
   ]
  },
  {
   "cell_type": "code",
   "execution_count": null,
   "metadata": {},
   "outputs": [],
   "source": []
  },
  {
   "cell_type": "markdown",
   "metadata": {},
   "source": [
    "b. Find the number of rows in the dataset."
   ]
  },
  {
   "cell_type": "code",
   "execution_count": 3,
   "metadata": {},
   "outputs": [
    {
     "data": {
      "text/plain": [
       "(294478, 5)"
      ]
     },
     "execution_count": 3,
     "metadata": {},
     "output_type": "execute_result"
    }
   ],
   "source": [
    "df.shape"
   ]
  },
  {
   "cell_type": "markdown",
   "metadata": {},
   "source": [
    "c. The number of unique users in the dataset."
   ]
  },
  {
   "cell_type": "code",
   "execution_count": 4,
   "metadata": {},
   "outputs": [
    {
     "data": {
      "text/plain": [
       "290584"
      ]
     },
     "execution_count": 4,
     "metadata": {},
     "output_type": "execute_result"
    }
   ],
   "source": [
    "len(df['user_id'].unique())"
   ]
  },
  {
   "cell_type": "markdown",
   "metadata": {
    "collapsed": true
   },
   "source": [
    "d. The proportion of users converted."
   ]
  },
  {
   "cell_type": "code",
   "execution_count": 5,
   "metadata": {},
   "outputs": [
    {
     "data": {
      "text/plain": [
       "0.12104245244060237"
      ]
     },
     "execution_count": 5,
     "metadata": {},
     "output_type": "execute_result"
    }
   ],
   "source": [
    "len(df[df['converted'] == 1]['user_id'].unique())/len(df['user_id'].unique())"
   ]
  },
  {
   "cell_type": "markdown",
   "metadata": {
    "collapsed": true
   },
   "source": [
    "e. The number of times the `new_page` and `treatment` don't line up."
   ]
  },
  {
   "cell_type": "code",
   "execution_count": 6,
   "metadata": {},
   "outputs": [
    {
     "data": {
      "text/plain": [
       "3893"
      ]
     },
     "execution_count": 6,
     "metadata": {},
     "output_type": "execute_result"
    }
   ],
   "source": [
    "df.query('(landing_page == \"new_page\" and group != \"treatment\") | (group == \"treatment\" & landing_page != \"new_page\")')['user_id'].count()\n"
   ]
  },
  {
   "cell_type": "markdown",
   "metadata": {},
   "source": [
    "f. Do any of the rows have missing values?"
   ]
  },
  {
   "cell_type": "code",
   "execution_count": 7,
   "metadata": {},
   "outputs": [
    {
     "data": {
      "text/plain": [
       "user_id         294478\n",
       "timestamp       294478\n",
       "group           294478\n",
       "landing_page    294478\n",
       "converted       294478\n",
       "dtype: int64"
      ]
     },
     "execution_count": 7,
     "metadata": {},
     "output_type": "execute_result"
    }
   ],
   "source": [
    "df.isnull().count()"
   ]
  },
  {
   "cell_type": "markdown",
   "metadata": {},
   "source": [
    "`2.` For the rows where **treatment** is not aligned with **new_page** or **control** is not aligned with **old_page**, we cannot be sure if this row truly received the new or old page.  \n",
    "\n",
   ]
  },
  {
   "cell_type": "code",
   "execution_count": 8,
   "metadata": {},
   "outputs": [
    {
     "data": {
      "text/plain": [
       "290585"
      ]
     },
     "execution_count": 8,
     "metadata": {},
     "output_type": "execute_result"
    }
   ],
   "source": [
    "df2 = df.query('(group == \"treatment\" & landing_page == \"new_page\") | (group == \"control\" & landing_page == \"old_page\")')\n",
    "df2.shape[0]"
   ]
  },
  {
   "cell_type": "code",
   "execution_count": 9,
   "metadata": {},
   "outputs": [
    {
     "data": {
      "text/plain": [
       "0"
      ]
     },
     "execution_count": 9,
     "metadata": {},
     "output_type": "execute_result"
    }
   ],
   "source": [
    "# Double Check all of the correct rows were removed - this should be 0\n",
    "df2[((df2['group'] == 'treatment') == (df2['landing_page'] == 'new_page')) == False].shape[0]"
   ]
  },
  {
   "cell_type": "markdown",
   "metadata": {},
   "source": [
    "`3.` Use **df2** and the cells below to answer questions for **Quiz3** in the classroom."
   ]
  },
  {
   "cell_type": "markdown",
   "metadata": {},
   "source": [
    "a. How many unique **user_id**s are in **df2**?"
   ]
  },
  {
   "cell_type": "code",
   "execution_count": 10,
   "metadata": {},
   "outputs": [
    {
     "data": {
      "text/plain": [
       "290584"
      ]
     },
     "execution_count": 10,
     "metadata": {},
     "output_type": "execute_result"
    }
   ],
   "source": [
    "len(df2['user_id'].unique())"
   ]
  },
  {
   "cell_type": "markdown",
   "metadata": {
    "collapsed": true
   },
   "source": [
    "b. There is one **user_id** repeated in **df2**.  What is it?"
   ]
  },
  {
   "cell_type": "code",
   "execution_count": 11,
   "metadata": {},
   "outputs": [
    {
     "data": {
      "text/html": [
       "<div>\n",
       "<style scoped>\n",
       "    .dataframe tbody tr th:only-of-type {\n",
       "        vertical-align: middle;\n",
       "    }\n",
       "\n",
       "    .dataframe tbody tr th {\n",
       "        vertical-align: top;\n",
       "    }\n",
       "\n",
       "    .dataframe thead th {\n",
       "        text-align: right;\n",
       "    }\n",
       "</style>\n",
       "<table border=\"1\" class=\"dataframe\">\n",
       "  <thead>\n",
       "    <tr style=\"text-align: right;\">\n",
       "      <th></th>\n",
       "      <th>user_id</th>\n",
       "      <th>timestamp</th>\n",
       "      <th>group</th>\n",
       "      <th>landing_page</th>\n",
       "      <th>converted</th>\n",
       "    </tr>\n",
       "  </thead>\n",
       "  <tbody>\n",
       "    <tr>\n",
       "      <th>2893</th>\n",
       "      <td>773192</td>\n",
       "      <td>2017-01-14 02:55:59.590927</td>\n",
       "      <td>treatment</td>\n",
       "      <td>new_page</td>\n",
       "      <td>0</td>\n",
       "    </tr>\n",
       "  </tbody>\n",
       "</table>\n",
       "</div>"
      ],
      "text/plain": [
       "      user_id                   timestamp      group landing_page  converted\n",
       "2893   773192  2017-01-14 02:55:59.590927  treatment     new_page          0"
      ]
     },
     "execution_count": 11,
     "metadata": {},
     "output_type": "execute_result"
    }
   ],
   "source": [
    "df2[df2['user_id'].duplicated()].sort_values(\"user_id\")\n"
   ]
  },
  {
   "cell_type": "markdown",
   "metadata": {},
   "source": [
    "c. What is the row information for the repeat **user_id**? "
   ]
  },
  {
   "cell_type": "code",
   "execution_count": 12,
   "metadata": {},
   "outputs": [
    {
     "data": {
      "text/html": [
       "<div>\n",
       "<style scoped>\n",
       "    .dataframe tbody tr th:only-of-type {\n",
       "        vertical-align: middle;\n",
       "    }\n",
       "\n",
       "    .dataframe tbody tr th {\n",
       "        vertical-align: top;\n",
       "    }\n",
       "\n",
       "    .dataframe thead th {\n",
       "        text-align: right;\n",
       "    }\n",
       "</style>\n",
       "<table border=\"1\" class=\"dataframe\">\n",
       "  <thead>\n",
       "    <tr style=\"text-align: right;\">\n",
       "      <th></th>\n",
       "      <th>user_id</th>\n",
       "      <th>timestamp</th>\n",
       "      <th>group</th>\n",
       "      <th>landing_page</th>\n",
       "      <th>converted</th>\n",
       "    </tr>\n",
       "  </thead>\n",
       "  <tbody>\n",
       "    <tr>\n",
       "      <th>2893</th>\n",
       "      <td>773192</td>\n",
       "      <td>2017-01-14 02:55:59.590927</td>\n",
       "      <td>treatment</td>\n",
       "      <td>new_page</td>\n",
       "      <td>0</td>\n",
       "    </tr>\n",
       "  </tbody>\n",
       "</table>\n",
       "</div>"
      ],
      "text/plain": [
       "      user_id                   timestamp      group landing_page  converted\n",
       "2893   773192  2017-01-14 02:55:59.590927  treatment     new_page          0"
      ]
     },
     "execution_count": 12,
     "metadata": {},
     "output_type": "execute_result"
    }
   ],
   "source": [
    "df2[df2['user_id'].duplicated()].sort_values(\"user_id\")\n"
   ]
  },
  {
   "cell_type": "markdown",
   "metadata": {},
   "source": [
    "d. Remove **one** of the rows with a duplicate **user_id**, but keep your dataframe as **df2**."
   ]
  },
  {
   "cell_type": "code",
   "execution_count": 13,
   "metadata": {},
   "outputs": [],
   "source": [
    "df2 = df2.drop_duplicates(subset='user_id')"
   ]
  },
  {
   "cell_type": "markdown",
   "metadata": {},
   "source": [
    "`4.` Use **df2** in the below cells to answer the quiz questions related to **Quiz 4** in the classroom.\n",
    "\n",
    "a. What is the probability of an individual converting regardless of the page they receive?"
   ]
  },
  {
   "cell_type": "code",
   "execution_count": 14,
   "metadata": {},
   "outputs": [
    {
     "data": {
      "text/plain": [
       "0.11959708724499628"
      ]
     },
     "execution_count": 14,
     "metadata": {},
     "output_type": "execute_result"
    }
   ],
   "source": [
    "P𝑝𝑜𝑝𝑢𝑙𝑎𝑡𝑖𝑜𝑛 = len(df2.query('converted == 1'))/df2.shape[0]\n",
    "P𝑝𝑜𝑝𝑢𝑙𝑎𝑡𝑖𝑜𝑛"
   ]
  },
  {
   "cell_type": "markdown",
   "metadata": {},
   "source": [
    "b. Given that an individual was in the `control` group, what is the probability they converted?"
   ]
  },
  {
   "cell_type": "code",
   "execution_count": 15,
   "metadata": {},
   "outputs": [
    {
     "data": {
      "text/plain": [
       "0.1203863045004612"
      ]
     },
     "execution_count": 15,
     "metadata": {},
     "output_type": "execute_result"
    }
   ],
   "source": [
    "P𝑝𝑜𝑝𝑢𝑙𝑎𝑡𝑖𝑜𝑛_control = len(df2.query('group == \"control\" & converted == 1'))/ len(df2.query('group==\"control\"'))\n",
    "P𝑝𝑜𝑝𝑢𝑙𝑎𝑡𝑖𝑜𝑛_control"
   ]
  },
  {
   "cell_type": "markdown",
   "metadata": {},
   "source": [
    "c. Given that an individual was in the `treatment` group, what is the probability they converted?"
   ]
  },
  {
   "cell_type": "code",
   "execution_count": 16,
   "metadata": {},
   "outputs": [
    {
     "data": {
      "text/plain": [
       "0.11880806551510564"
      ]
     },
     "execution_count": 16,
     "metadata": {},
     "output_type": "execute_result"
    }
   ],
   "source": [
    "P𝑝𝑜𝑝𝑢𝑙𝑎𝑡𝑖𝑜𝑛_treatment =len(df2.query('group == \"treatment\" & converted == 1'))/ len(df2.query('group==\"treatment\"'))\n",
    "P𝑝𝑜𝑝𝑢𝑙𝑎𝑡𝑖𝑜𝑛_treatment"
   ]
  },
  {
   "cell_type": "markdown",
   "metadata": {},
   "source": [
    "d. What is the probability that an individual received the new page?"
   ]
  },
  {
   "cell_type": "code",
   "execution_count": 17,
   "metadata": {},
   "outputs": [
    {
     "data": {
      "text/plain": [
       "0.5000619442226688"
      ]
     },
     "execution_count": 17,
     "metadata": {},
     "output_type": "execute_result"
    }
   ],
   "source": [
    "P𝑝𝑜𝑝𝑢𝑙𝑎𝑡𝑖𝑜𝑛_new_page =len(df2.query('landing_page == \"new_page\"'))/ df2.shape[0]\n",
    "P𝑝𝑜𝑝𝑢𝑙𝑎𝑡𝑖𝑜𝑛_new_page "
   ]
  },
  {
   "cell_type": "markdown",
   "metadata": {},
   "source": [
    "e. Consider your results from a. through d. above, and explain below whether you think there is sufficient evidence to say that the new treatment page leads to more conversions."
   ]
  },
  {
   "cell_type": "markdown",
   "metadata": {},
   "source": [
    "**Your answer goes here.**\n",
    "\n",
    "- probability of an individual converting regardless of the page they receive : 0.11959708724499628\n",
    "\n",
    "- probability that an individual received the new page : 0.5000619442226688\n",
    "- control(old page)(0.1203863045004612) has probability they converted a little more than treatment (new page) (0.11880806551510564)\n",
    "- we can't say that new page leads to more conversions, the probability of new page is roughly 50% ."
   ]
  },
  {
   "cell_type": "markdown",
   "metadata": {},
   "source": [
    "<a id='ab_test'></a>\n",
    "### Part II - A/B Test\n",
    "\n",
    "Notice that because of the time stamp associated with each event, you could technically run a hypothesis test continuously as each observation was observed.  \n",
    "\n",
    "However, then the hard question is do you stop as soon as one page is considered significantly better than another or does it need to happen consistently for a certain amount of time?  How long do you run to render a decision that neither page is better than another?  \n",
    "\n",
    "These questions are the difficult parts associated with A/B tests in general.  \n",
    "\n",
    "\n",
    "`1.` For now, consider you need to make the decision just based on all the data provided.  If you want to assume that the old page is better unless the new page proves to be definitely better at a Type I error rate of 5%, what should your null and alternative hypotheses be?  You can state your hypothesis in terms of words or in terms of **$p_{old}$** and **$p_{new}$**, which are the converted rates for the old and new pages."
   ]
  },
  {
   "cell_type": "markdown",
   "metadata": {},
   "source": [
    "**Put your answer here.**\n",
    "\n",
    "- Null hypothese is  H0 :  pold  >=  pnew\n",
    " \n",
    "- Alternative hypothese is  H1 :  pold  <  pnew"
   ]
  },
  {
   "cell_type": "markdown",
   "metadata": {},
   "source": [
    "`2.` Assume under the null hypothesis, $p_{new}$ and $p_{old}$ both have \"true\" success rates equal to the **converted** success rate regardless of page - that is $p_{new}$ and $p_{old}$ are equal. Furthermore, assume they are equal to the **converted** rate in **ab_data.csv** regardless of the page. <br><br>\n",
    "\n",
    "Use a sample size for each page equal to the ones in **ab_data.csv**.  <br><br>\n",
    "\n",
    "Perform the sampling distribution for the difference in **converted** between the two pages over 10,000 iterations of calculating an estimate from the null.  <br><br>\n",
    "\n",
    "Use the cells below to provide the necessary parts of this simulation.  If this doesn't make complete sense right now, don't worry - you are going to work through the problems below to complete this problem.  You can use **Quiz 5** in the classroom to make sure you are on the right track.<br><br>"
   ]
  },
  {
   "cell_type": "markdown",
   "metadata": {},
   "source": [
    "a. What is the **convert rate** for $p_{new}$ under the null? "
   ]
  },
  {
   "cell_type": "code",
   "execution_count": 18,
   "metadata": {},
   "outputs": [
    {
     "data": {
      "text/plain": [
       "0.11959708724499628"
      ]
     },
     "execution_count": 18,
     "metadata": {},
     "output_type": "execute_result"
    }
   ],
   "source": [
    "P_new = df2.query(' converted==1')['user_id'].nunique()/float(df2['user_id'].nunique())\n",
    "P_new"
   ]
  },
  {
   "cell_type": "markdown",
   "metadata": {},
   "source": [
    "b. What is the **convert rate** for $p_{old}$ under the null? <br><br>"
   ]
  },
  {
   "cell_type": "code",
   "execution_count": 19,
   "metadata": {},
   "outputs": [
    {
     "data": {
      "text/plain": [
       "0.11959708724499628"
      ]
     },
     "execution_count": 19,
     "metadata": {},
     "output_type": "execute_result"
    }
   ],
   "source": [
    "P_old = df2.query(' converted==1')['user_id'].nunique()/float(df2['user_id'].nunique())\n",
    "P_old"
   ]
  },
  {
   "cell_type": "markdown",
   "metadata": {},
   "source": [
    "c. What is $n_{new}$?"
   ]
  },
  {
   "cell_type": "code",
   "execution_count": 20,
   "metadata": {},
   "outputs": [
    {
     "data": {
      "text/plain": [
       "145310"
      ]
     },
     "execution_count": 20,
     "metadata": {},
     "output_type": "execute_result"
    }
   ],
   "source": [
    "N_new = df2.query('group==\"treatment\"  ')['user_id'].nunique()\n",
    "N_new"
   ]
  },
  {
   "cell_type": "markdown",
   "metadata": {},
   "source": [
    "d. What is $n_{old}$?"
   ]
  },
  {
   "cell_type": "code",
   "execution_count": 21,
   "metadata": {},
   "outputs": [
    {
     "data": {
      "text/plain": [
       "145274"
      ]
     },
     "execution_count": 21,
     "metadata": {},
     "output_type": "execute_result"
    }
   ],
   "source": [
    "N_old = df2.query('group==\"control\"  ')['user_id'].nunique()\n",
    "N_old"
   ]
  },
  {
   "cell_type": "markdown",
   "metadata": {},
   "source": [
    "e. Simulate $n_{new}$ transactions with a convert rate of $p_{new}$ under the null.  Store these $n_{new}$ 1's and 0's in **new_page_converted**."
   ]
  },
  {
   "cell_type": "code",
   "execution_count": 22,
   "metadata": {},
   "outputs": [
    {
     "data": {
      "text/plain": [
       "array([1, 1, 1, ..., 1, 1, 1])"
      ]
     },
     "execution_count": 22,
     "metadata": {},
     "output_type": "execute_result"
    }
   ],
   "source": [
    "# Simulate a Sample for the treatment Group\n",
    "new_page_converted= np.random.choice([0,1],N_new,p=[P_new,1-P_new])\n",
    "new_page_converted"
   ]
  },
  {
   "cell_type": "markdown",
   "metadata": {},
   "source": [
    "f. Simulate $n_{old}$ transactions with a convert rate of $p_{old}$ under the null.  Store these $n_{old}$ 1's and 0's in **old_page_converted**."
   ]
  },
  {
   "cell_type": "code",
   "execution_count": 23,
   "metadata": {},
   "outputs": [
    {
     "data": {
      "text/plain": [
       "array([1, 1, 1, ..., 1, 1, 1])"
      ]
     },
     "execution_count": 23,
     "metadata": {},
     "output_type": "execute_result"
    }
   ],
   "source": [
    "# Simulate a Sample for the control Group\n",
    "old_page_converted= np.random.choice([0,1],N_old,p=[P_old,1-P_old])\n",
    "old_page_converted"
   ]
  },
  {
   "cell_type": "markdown",
   "metadata": {},
   "source": [
    "g. Find $p_{new}$ - $p_{old}$ for your simulated values from part (e) and (f)."
   ]
  },
  {
   "cell_type": "code",
   "execution_count": 24,
   "metadata": {},
   "outputs": [
    {
     "data": {
      "text/plain": [
       "-0.0004728508360168915"
      ]
     },
     "execution_count": 24,
     "metadata": {},
     "output_type": "execute_result"
    }
   ],
   "source": [
    "diff = new_page_converted.mean()-old_page_converted.mean()\n",
    "diff"
   ]
  },
  {
   "cell_type": "markdown",
   "metadata": {},
   "source": [
    "h. Simulate 10,000 $p_{new}$ - $p_{old}$ values using this same process similarly to the one you calculated in parts **a. through g.** above.  Store all 10,000 values in a numpy array called **p_diffs**."
   ]
  },
  {
   "cell_type": "code",
   "execution_count": 25,
   "metadata": {},
   "outputs": [],
   "source": [
    "# Sampling distribution \n",
    "p_diffs = []\n",
    "for _ in range(10000) : \n",
    "    new_page_converted = np.random.choice([0,1],N_new,p=[P_new,1-P_new])\n",
    "    old_page_converted=np.random.choice([0,1],N_old,p=[P_old,1-P_old])\n",
    "    p_diffs.append(new_page_converted.mean()-old_page_converted.mean())"
   ]
  },
  {
   "cell_type": "markdown",
   "metadata": {},
   "source": [
    "i. Plot a histogram of the **p_diffs**.  Does this plot look like what you expected?  Use the matching problem in the classroom to assure you fully understand what was computed here."
   ]
  },
  {
   "cell_type": "code",
   "execution_count": 26,
   "metadata": {},
   "outputs": [
    {
     "data": {
      "text/plain": [
       "<matplotlib.lines.Line2D at 0x285e3723088>"
      ]
     },
     "execution_count": 26,
     "metadata": {},
     "output_type": "execute_result"
    },
    {
     "data": {
      "image/png": "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\n",
      "text/plain": [
       "<Figure size 432x288 with 1 Axes>"
      ]
     },
     "metadata": {
      "needs_background": "light"
     },
     "output_type": "display_data"
    }
   ],
   "source": [
    "plt.hist(p_diffs)\n",
    "plt.xlabel('p_diffs')\n",
    "plt.ylabel('Frequency')\n",
    "plt.title('simulated p_diffs');\n",
    "plt.axvline(diff,color='red')"
   ]
  },
  {
   "cell_type": "markdown",
   "metadata": {},
   "source": [
    "j. What proportion of the **p_diffs** are greater than the actual difference observed in **ab_data.csv**?"
   ]
  },
  {
   "cell_type": "code",
   "execution_count": 40,
   "metadata": {},
   "outputs": [
    {
     "data": {
      "text/plain": [
       "-0.0015782389853555567"
      ]
     },
     "execution_count": 40,
     "metadata": {},
     "output_type": "execute_result"
    }
   ],
   "source": [
    "actual_diff = df2.query('group == \"treatment\"')['converted'].mean(\n",
    ") - df2.query('group == \"control\"')['converted'].mean()\n",
    "actual_diff"
   ]
  },
  {
   "cell_type": "code",
   "execution_count": 28,
   "metadata": {},
   "outputs": [
    {
     "data": {
      "text/plain": [
       "<matplotlib.lines.Line2D at 0x285e432de48>"
      ]
     },
     "execution_count": 28,
     "metadata": {},
     "output_type": "execute_result"
    },
    {
     "data": {
      "image/png": "iVBORw0KGgoAAAANSUhEUgAAAX0AAAD4CAYAAAAAczaOAAAABHNCSVQICAgIfAhkiAAAAAlwSFlzAAALEgAACxIB0t1+/AAAADh0RVh0U29mdHdhcmUAbWF0cGxvdGxpYiB2ZXJzaW9uMy4xLjMsIGh0dHA6Ly9tYXRwbG90bGliLm9yZy+AADFEAAAQy0lEQVR4nO3df6zddX3H8edrRTCbOootrKN1RdOZwR9D1gAL+6MLEwoYin+YQDJp0KQmg0Qzl6XKHxgNCej8ETKHqdpYMhTZ1NgAG1aiMSYDWhgCFTuuUOXajlZL0MXEBffeH+d79bQ9997T3nvOve3n+UhOzve8v5/v9/v5fu7N63zv9/s956aqkCS14XcWugOSpPEx9CWpIYa+JDXE0Jekhhj6ktSQUxa6AzNZtmxZrV69eqG7ofmyZ0/v+c1vXth+SCe5xx577KdVtXzQvEUd+qtXr2bXrl0L3Q3Nl3Xres/f/vZC9kI66SX50XTzPL0jSQ0x9CWpIYa+JDXE0Jekhhj6ktQQQ1+SGmLoS1JDDH1JaoihL0kNWdSfyJUWs9Wb71+Q7e697aoF2a5ODh7pS1JDDH1JaoihL0kNMfQlqSGGviQ1xNCXpIYY+pLUEENfkhpi6EtSQwx9SWqIoS9JDTH0Jakhhr4kNcTQl6SGzBr6SVYl+VaSZ5LsTvLerv6hJD9J8kT3uLJvmQ8kmUiyJ8nlffX1XW0iyebR7JIkaTrDfJ/+K8D7q+rxJK8FHkuyo5v3yar6h/7GSc4FrgXOA/4Q+GaSP+5mfxp4KzAJ7Eyyvaq+Px87Ikma3ayhX1X7gf3d9C+SPAOcPcMiG4B7qupXwPNJJoALu3kTVfUcQJJ7uraGviSNyTH956wkq4G3AI8AlwA3Jbke2EXvr4GX6L0hPNy32CS/fZN44Yj6RQO2sQnYBPCGN7zhWLqnBi3Uf6+STlRDX8hN8hrgK8D7qurnwJ3Am4Dz6f0l8PGppgMWrxnqhxeqtlTV2qpau3z58mG7J0kawlBH+kleRS/w766qrwJU1Yt98z8L3Ne9nARW9S2+EtjXTU9XlySNwTB37wT4PPBMVX2ir76ir9nbgae76e3AtUlOS3IOsAZ4FNgJrElyTpJT6V3s3T4/uyFJGsYwR/qXAO8EnkryRFf7IHBdkvPpnaLZC7wHoKp2J7mX3gXaV4Abq+rXAEluAh4ElgBbq2r3PO6LJGkWw9y9810Gn49/YIZlbgVuHVB/YKblJEmj5SdyJakhhr4kNcTQl6SGGPqS1BBDX5IaYuhLUkMMfUlqiKEvSQ0x9CWpIYa+JDXE0Jekhhj6ktQQQ1+SGmLoS1JDDH1JaoihL0kNMfQlqSGGviQ1xNCXpIYY+pLUEENfkhpi6EtSQwx9SWqIoS9JDTH0Jakhhr4kNcTQl6SGGPqS1JBZQz/JqiTfSvJMkt1J3tvVz0iyI8mz3fPSrp4kdySZSPJkkgv61rWxa/9sko2j2y1J0iDDHOm/Ary/qv4EuBi4Mcm5wGbgoapaAzzUvQa4AljTPTYBd0LvTQK4BbgIuBC4ZeqNQpI0HrOGflXtr6rHu+lfAM8AZwMbgG1ds23ANd30BuCu6nkYOD3JCuByYEdVHaqql4AdwPp53RtJ0oyO6Zx+ktXAW4BHgLOqaj/03hiAM7tmZwMv9C022dWmq0uSxmTo0E/yGuArwPuq6uczNR1QqxnqR25nU5JdSXYdPHhw2O5JkoYwVOgneRW9wL+7qr7alV/sTtvQPR/o6pPAqr7FVwL7Zqgfpqq2VNXaqlq7fPnyY9kXSdIshrl7J8DngWeq6hN9s7YDU3fgbAS+3le/vruL52Lg5e70z4PAZUmWdhdwL+tqkqQxOWWINpcA7wSeSvJEV/sgcBtwb5J3Az8G3tHNewC4EpgAfgncAFBVh5J8BNjZtftwVR2al72QJA1l1tCvqu8y+Hw8wKUD2hdw4zTr2gpsPZYOSpLmj5/IlaSGGPqS1BBDX5IaYuhLUkMMfUlqiKEvSQ0x9CWpIYa+JDXE0Jekhhj6ktQQQ1+SGmLoS1JDhvmWTUmLyOrN9y/YtvfedtWCbVvzwyN9SWqIoS9JDTH0Jakhhr4kNcTQl6SGGPqS1BBDX5IaYuhLUkMMfUlqiKEvSQ0x9CWpIYa+JDXE0Jekhhj6ktQQQ1+SGmLoS1JDZg39JFuTHEjydF/tQ0l+kuSJ7nFl37wPJJlIsifJ5X319V1tIsnm+d8VSdJshjnS/wKwfkD9k1V1fvd4ACDJucC1wHndMv+UZEmSJcCngSuAc4HruraSpDGa9d8lVtV3kqwecn0bgHuq6lfA80kmgAu7eRNV9RxAknu6tt8/5h5Lko7bXM7p35Tkye70z9KudjbwQl+bya42Xf0oSTYl2ZVk18GDB+fQPUnSkY439O8E3gScD+wHPt7VM6BtzVA/uli1parWVtXa5cuXH2f3JEmDzHp6Z5CqenFqOslngfu6l5PAqr6mK4F93fR0dUnSmBzXkX6SFX0v3w5M3dmzHbg2yWlJzgHWAI8CO4E1Sc5Jciq9i73bj7/bkqTjMeuRfpIvAeuAZUkmgVuAdUnOp3eKZi/wHoCq2p3kXnoXaF8BbqyqX3fruQl4EFgCbK2q3fO+N5KkGQ1z9851A8qfn6H9rcCtA+oPAA8cU+90wli9+f5Z29zz3M8AuHaItpJGw0/kSlJDDH1JaoihL0kNMfQlqSGGviQ1xNCXpIYY+pLUEENfkhpi6EtSQwx9SWqIoS9JDTH0Jakhhr4kNcTQl6SGGPqS1BBDX5IaYuhLUkMMfUlqiKEvSQ0x9CWpIYa+JDXE0Jekhhj6ktQQQ1+SGmLoS1JDDH1JaoihL0kNMfQlqSGGviQ1ZNbQT7I1yYEkT/fVzkiyI8mz3fPSrp4kdySZSPJkkgv6ltnYtX82ycbR7I4kaSbDHOl/AVh/RG0z8FBVrQEe6l4DXAGs6R6bgDuh9yYB3AJcBFwI3DL1RiFJGp9ZQ7+qvgMcOqK8AdjWTW8Drumr31U9DwOnJ1kBXA7sqKpDVfUSsIOj30gkSSN2vOf0z6qq/QDd85ld/Wzghb52k11tuvpRkmxKsivJroMHDx5n9yRJg8z3hdwMqNUM9aOLVVuqam1VrV2+fPm8dk6SWne8of9id9qG7vlAV58EVvW1Wwnsm6EuSRqj4w397cDUHTgbga/31a/v7uK5GHi5O/3zIHBZkqXdBdzLupokaYxOma1Bki8B64BlSSbp3YVzG3BvkncDPwbe0TV/ALgSmAB+CdwAUFWHknwE2Nm1+3BVHXlxWJI0YrOGflVdN82sSwe0LeDGadazFdh6TL2TJM0rP5ErSQ0x9CWpIYa+JDXE0Jekhhj6ktQQQ1+SGmLoS1JDDH1JaoihL0kNmfUTuZI0ZfXm+xdku3tvu2pBtnsy8khfkhpi6EtSQwx9SWqIoS9JDTH0Jakhhr4kNcTQl6SGGPqS1BBDX5IaYuhLUkMMfUlqiKEvSQ0x9CWpIYa+JDXE0Jekhhj6ktQQQ1+SGmLoS1JDDH1JasicQj/J3iRPJXkiya6udkaSHUme7Z6XdvUkuSPJRJInk1wwHzsgSRrefBzp/2VVnV9Va7vXm4GHqmoN8FD3GuAKYE332ATcOQ/bliQdg1Gc3tkAbOumtwHX9NXvqp6HgdOTrBjB9iVJ05hr6BfwjSSPJdnU1c6qqv0A3fOZXf1s4IW+ZSe72mGSbEqyK8mugwcPzrF7kqR+p8xx+Uuqal+SM4EdSX4wQ9sMqNVRhaotwBaAtWvXHjVfknT85nSkX1X7uucDwNeAC4EXp07bdM8HuuaTwKq+xVcC++ayfUnSsTnu0E/ye0leOzUNXAY8DWwHNnbNNgJf76a3A9d3d/FcDLw8dRpIkjQeczm9cxbwtSRT6/liVf17kp3AvUneDfwYeEfX/gHgSmAC+CVwwxy2rWms3nz/QndB0iJ23KFfVc8Bfzqg/jPg0gH1Am483u1JkubOT+RKUkMMfUlqiKEvSQ0x9CWpIYa+JDXE0Jekhhj6ktQQQ1+SGmLoS1JDDH1JaoihL0kNMfQlqSGGviQ1xNCXpIYY+pLUEENfkhpi6EtSQwx9SWqIoS9JDZnLP0aXpLFYvfn+Bdv23tuuWrBtj4JH+pLUEENfkhpi6EtSQwx9SWqIoS9JDfHunRFYyDsNJGkmHulLUkMMfUlqiKEvSQ0Ze+gnWZ9kT5KJJJvHvX1JatlYL+QmWQJ8GngrMAnsTLK9qr4/zn5I0rAW6saMUX39w7jv3rkQmKiq5wCS3ANsAEYS+t5FI0mHG3fonw280Pd6Eriov0GSTcCm7uX/JNkzpr4Nsgz46QJufzE75rH586mJ2982751ZRPydGcxxmd7Ascntc1rnH003Y9yhnwG1OuxF1RZgy3i6M7Mku6pq7UL3YzFybAZzXAZzXKY37rEZ94XcSWBV3+uVwL4x90GSmjXu0N8JrElyTpJTgWuB7WPugyQ1a6ynd6rqlSQ3AQ8CS4CtVbV7nH04RoviNNMi5dgM5rgM5rhMb6xjk6qavZUk6aTgJ3IlqSGGviQ1pMnQT3JGkh1Jnu2el07TbmPX5tkkG/vqf5bkqe6rJO5IkiOW+7sklWTZqPdlPo1qXJJ8LMkPkjyZ5GtJTh/XPs3FbF8ZkuS0JF/u5j+SZHXfvA909T1JLh92nSeK+R6bJKuSfCvJM0l2J3nv+PZm/ozid6abtyTJfya5b86drKrmHsBHgc3d9Gbg9gFtzgCe656XdtNLu3mP0vusUYB/A67oW24VvQvVPwKWLfS+LoZxAS4DTummbx+03sX2oHejwQ+BNwKnAt8Dzj2izd8An+mmrwW+3E2f27U/DTinW8+SYdZ5IjxGNDYrgAu6Nq8F/utEG5tRjEvfcn8LfBG4b679bPJIn95XP2zrprcB1wxoczmwo6oOVdVLwA5gfZIVwOuq6j+q99O464jlPwn8PUd86OwEMZJxqapvVNUr3fIP0/t8xmL3m68Mqar/Baa+MqRf/3j9K3Bp99fNBuCeqvpVVT0PTHTrG2adJ4J5H5uq2l9VjwNU1S+AZ+h9gv9EMorfGZKsBK4CPjcfnWw19M+qqv0A3fOZA9oM+sqIs7vH5IA6Sa4GflJV3xtFp8dgJONyhHfR+ytgsZtuPwe26d7UXgZeP8Oyw6zzRDCKsfmN7pTHW4BH5rHP4zCqcfkUvQPJ/5uPTp60/y4xyTeBPxgw6+ZhVzGgVtPVk/xut+7Lhlz/ghj3uByx7ZuBV4C7h9zWQpp1f2ZoM1190EHWifgX4SjGprdQ8hrgK8D7qurnx93DhTHv45LkbcCBqnosybo59g84iUO/qv5qunlJXkyyoqr2d6clDgxoNgms63u9Evh2V195RH0f8CZ65+K+112/XAk8nuTCqvrvOezKvFqAcZla90bgbcCl3emfxW6YrwyZajOZ5BTg94FDsyx7MnwNyUjGJsmr6AX+3VX11dF0faRGMS5XA1cnuRJ4NfC6JP9cVX993L1c6IsfC/EAPsbhFyw/OqDNGcDz9C5WLu2mz+jm7QQu5rcXLK8csPxeTrwLuSMZF2A9va/PXr7Q+3gMY3EKvYvU5/Dbi3LnHdHmRg6/KHdvN30eh1+Ue47eRb5Z13kiPEY0NqF3HehTC71/i2lcjlh2HfNwIXfBB2qBfjivBx4Cnu2ep0JrLfC5vnbvondBZQK4oa++Fnia3hX2f6T7ZPMR2zgRQ38k49K1ewF4ont8ZqH3dcjxuJLeXSQ/BG7uah8Gru6mXw38S7d/jwJv7Fv25m65PRx+d9dR6zwRH/M9NsBf0DvN8WTf78lRB1OL/TGK35m++fMS+n4NgyQ1pNW7dySpSYa+JDXE0Jekhhj6ktQQQ1+SGmLoS1JDDH1Jasj/A/LW0zUmKBx4AAAAAElFTkSuQmCC\n",
      "text/plain": [
       "<Figure size 432x288 with 1 Axes>"
      ]
     },
     "metadata": {
      "needs_background": "light"
     },
     "output_type": "display_data"
    }
   ],
   "source": [
    "plt.hist(p_diffs)\n",
    "plt.axvline(actual_diff, color='r')"
   ]
  },
  {
   "cell_type": "code",
   "execution_count": 41,
   "metadata": {},
   "outputs": [
    {
     "data": {
      "text/plain": [
       "0.9085"
      ]
     },
     "execution_count": 41,
     "metadata": {},
     "output_type": "execute_result"
    }
   ],
   "source": [
    "p_diffs = np.array(p_diffs)\n",
    "p_val = (p_diffs > actual_diff).mean()\n",
    "p_val\n"
   ]
  },
  {
   "cell_type": "markdown",
   "metadata": {},
   "source": [
    "k. In words, explain what you just computed in part **j.**  What is this value called in scientific studies?  What does this value mean in terms of whether or not there is a difference between the new and old pages?"
   ]
  },
  {
   "cell_type": "markdown",
   "metadata": {},
   "source": [
    "**Put your answer here.**\n",
    "What is this value called in scientific studies?\n",
    "\n",
    "  - Answer : The value is called P-Value.\n",
    "  \n",
    "What does this value signify in terms of whether or not there is a difference between the new and old pages?\n",
    "\n",
    "  - Answer : there is a difference between the new and old pages P-Value > Type I error rate (0.05) So we fail to reject the null hypothesis, so that the control page has higher probability of convert rate than treatment page."
   ]
  },
  {
   "cell_type": "markdown",
   "metadata": {},
   "source": [
    "l. We could also use a built-in to achieve similar results.  Though using the built-in might be easier to code, the above portions are a walkthrough of the ideas that are critical to correctly thinking about statistical significance. Fill in the below to calculate the number of conversions for each page, as well as the number of individuals who received each page. Let `n_old` and `n_new` refer the the number of rows associated with the old page and new pages, respectively."
   ]
  },
  {
   "cell_type": "code",
   "execution_count": 29,
   "metadata": {},
   "outputs": [
    {
     "data": {
      "text/plain": [
       "(17264, 17489, 145310, 145274)"
      ]
     },
     "execution_count": 29,
     "metadata": {},
     "output_type": "execute_result"
    }
   ],
   "source": [
    "import statsmodels.api as sm\n",
    "\n",
    "# number of conversions with the old_page\n",
    "convert_new = df2.query('converted == 1 and landing_page == \"new_page\"')['user_id'].nunique()\n",
    "\n",
    "# number of conversions with the new_page\n",
    "convert_old =df2.query('converted == 1 and landing_page == \"old_page\"')['user_id'].nunique()\n",
    "\n",
    "# number of individuals who were shown the old_page\n",
    "n_old =df2.query('landing_page == \"old_page\"')['user_id'].nunique()\n",
    "\n",
    "\n",
    "# number of individuals who received new_page\n",
    "n_new = df2.query('landing_page == \"new_page\"')['user_id'].nunique()\n",
    "convert_new,convert_old,n_new,n_old"
   ]
  },
  {
   "cell_type": "markdown",
   "metadata": {},
   "source": [
    "m. Now use `stats.proportions_ztest` to compute your test statistic and p-value.  [Here](http://knowledgetack.com/python/statsmodels/proportions_ztest/) is a helpful link on using the built in."
   ]
  },
  {
   "cell_type": "code",
   "execution_count": 30,
   "metadata": {},
   "outputs": [
    {
     "name": "stdout",
     "output_type": "stream",
     "text": [
      "-1.3109241984234394 0.9050583127590245\n"
     ]
    }
   ],
   "source": [
    "z_score, p_value = sm.stats.proportions_ztest([convert_new, convert_old], [n_new, n_old], alternative = 'larger')\n",
    "print(z_score, p_value)"
   ]
  },
  {
   "cell_type": "markdown",
   "metadata": {},
   "source": [
    "n. What do the z-score and p-value you computed in the previous question mean for the conversion rates of the old and new pages?  Do they agree with the findings in parts **j.** and **k.**?"
   ]
  },
  {
   "cell_type": "markdown",
   "metadata": {},
   "source": [
    "**Put your answer here.**\n",
    "\n",
    "The z-score is approximately -1.31 and the p-value is aboout 0.905. And we know that the critical value is 1.64, which is greater than the value of z-score we computed above. So we can not reject the null hypothesis. We think there is no difference between the old and new pages. The conclusion is the same as the findings in parts j. and k.. We reach the same goal by different means."
   ]
  },
  {
   "cell_type": "markdown",
   "metadata": {},
   "source": [
    "<a id='regression'></a>\n",
    "### Part III - A regression approach\n",
    "\n",
    "`1.` In this final part, you will see that the result you acheived in the previous A/B test can also be acheived by performing regression.<br><br>\n",
    "\n",
    "a. Since each row is either a conversion or no conversion, what type of regression should you be performing in this case?"
   ]
  },
  {
   "cell_type": "markdown",
   "metadata": {},
   "source": [
    "This is a logistic regression"
   ]
  },
  {
   "cell_type": "markdown",
   "metadata": {},
   "source": [
    "b. The goal is to use **statsmodels** to fit the regression model you specified in part **a.** to see if there is a significant difference in conversion based on which page a customer receives.  However, you first need to create a column for the intercept, and create a dummy variable column for which page each user received.  Add an **intercept** column, as well as an **ab_page** column, which is 1 when an individual receives the **treatment** and 0 if **control**."
   ]
  },
  {
   "cell_type": "code",
   "execution_count": 31,
   "metadata": {},
   "outputs": [
    {
     "data": {
      "text/html": [
       "<div>\n",
       "<style scoped>\n",
       "    .dataframe tbody tr th:only-of-type {\n",
       "        vertical-align: middle;\n",
       "    }\n",
       "\n",
       "    .dataframe tbody tr th {\n",
       "        vertical-align: top;\n",
       "    }\n",
       "\n",
       "    .dataframe thead th {\n",
       "        text-align: right;\n",
       "    }\n",
       "</style>\n",
       "<table border=\"1\" class=\"dataframe\">\n",
       "  <thead>\n",
       "    <tr style=\"text-align: right;\">\n",
       "      <th></th>\n",
       "      <th>user_id</th>\n",
       "      <th>timestamp</th>\n",
       "      <th>group</th>\n",
       "      <th>landing_page</th>\n",
       "      <th>converted</th>\n",
       "      <th>intercept</th>\n",
       "      <th>ab_page</th>\n",
       "    </tr>\n",
       "  </thead>\n",
       "  <tbody>\n",
       "    <tr>\n",
       "      <th>0</th>\n",
       "      <td>851104</td>\n",
       "      <td>2017-01-21 22:11:48.556739</td>\n",
       "      <td>control</td>\n",
       "      <td>old_page</td>\n",
       "      <td>0</td>\n",
       "      <td>1</td>\n",
       "      <td>0</td>\n",
       "    </tr>\n",
       "    <tr>\n",
       "      <th>1</th>\n",
       "      <td>804228</td>\n",
       "      <td>2017-01-12 08:01:45.159739</td>\n",
       "      <td>control</td>\n",
       "      <td>old_page</td>\n",
       "      <td>0</td>\n",
       "      <td>1</td>\n",
       "      <td>0</td>\n",
       "    </tr>\n",
       "    <tr>\n",
       "      <th>2</th>\n",
       "      <td>661590</td>\n",
       "      <td>2017-01-11 16:55:06.154213</td>\n",
       "      <td>treatment</td>\n",
       "      <td>new_page</td>\n",
       "      <td>0</td>\n",
       "      <td>1</td>\n",
       "      <td>1</td>\n",
       "    </tr>\n",
       "    <tr>\n",
       "      <th>3</th>\n",
       "      <td>853541</td>\n",
       "      <td>2017-01-08 18:28:03.143765</td>\n",
       "      <td>treatment</td>\n",
       "      <td>new_page</td>\n",
       "      <td>0</td>\n",
       "      <td>1</td>\n",
       "      <td>1</td>\n",
       "    </tr>\n",
       "    <tr>\n",
       "      <th>4</th>\n",
       "      <td>864975</td>\n",
       "      <td>2017-01-21 01:52:26.210827</td>\n",
       "      <td>control</td>\n",
       "      <td>old_page</td>\n",
       "      <td>1</td>\n",
       "      <td>1</td>\n",
       "      <td>0</td>\n",
       "    </tr>\n",
       "  </tbody>\n",
       "</table>\n",
       "</div>"
      ],
      "text/plain": [
       "   user_id                   timestamp      group landing_page  converted  \\\n",
       "0   851104  2017-01-21 22:11:48.556739    control     old_page          0   \n",
       "1   804228  2017-01-12 08:01:45.159739    control     old_page          0   \n",
       "2   661590  2017-01-11 16:55:06.154213  treatment     new_page          0   \n",
       "3   853541  2017-01-08 18:28:03.143765  treatment     new_page          0   \n",
       "4   864975  2017-01-21 01:52:26.210827    control     old_page          1   \n",
       "\n",
       "   intercept  ab_page  \n",
       "0          1        0  \n",
       "1          1        0  \n",
       "2          1        1  \n",
       "3          1        1  \n",
       "4          1        0  "
      ]
     },
     "execution_count": 31,
     "metadata": {},
     "output_type": "execute_result"
    }
   ],
   "source": [
    "import statsmodels.api as sm\n",
    "# ab_page column, which is 1 when an individual receives the treatment and 0 if control.\n",
    "df2['intercept']=1\n",
    "df2['ab_page']=pd.get_dummies(df2['group'])['treatment']\n",
    "df2.head()"
   ]
  },
  {
   "cell_type": "markdown",
   "metadata": {},
   "source": [
    "c. Use **statsmodels** to import your regression model.  Instantiate the model, and fit the model using the two columns you created in part **b.** to predict whether or not an individual converts."
   ]
  },
  {
   "cell_type": "code",
   "execution_count": 32,
   "metadata": {},
   "outputs": [
    {
     "name": "stdout",
     "output_type": "stream",
     "text": [
      "Optimization terminated successfully.\n",
      "         Current function value: 0.366118\n",
      "         Iterations 6\n"
     ]
    },
    {
     "data": {
      "text/plain": [
       "intercept   -1.988777\n",
       "ab_page     -0.014989\n",
       "dtype: float64"
      ]
     },
     "execution_count": 32,
     "metadata": {},
     "output_type": "execute_result"
    }
   ],
   "source": [
    "Log_Mod= sm.Logit(df2['converted'],df2[['intercept','ab_page']])\n",
    "\n",
    "Resualt = Log_Mod.fit()\n",
    "Resualt.params"
   ]
  },
  {
   "cell_type": "markdown",
   "metadata": {},
   "source": [
    "d. Provide the summary of your model below, and use it as necessary to answer the following questions."
   ]
  },
  {
   "cell_type": "code",
   "execution_count": 33,
   "metadata": {},
   "outputs": [
    {
     "data": {
      "text/html": [
       "<table class=\"simpletable\">\n",
       "<tr>\n",
       "        <td>Model:</td>              <td>Logit</td>      <td>Pseudo R-squared:</td>    <td>0.000</td>   \n",
       "</tr>\n",
       "<tr>\n",
       "  <td>Dependent Variable:</td>     <td>converted</td>          <td>AIC:</td>        <td>212780.3502</td>\n",
       "</tr>\n",
       "<tr>\n",
       "         <td>Date:</td>        <td>2022-07-21 10:00</td>       <td>BIC:</td>        <td>212801.5095</td>\n",
       "</tr>\n",
       "<tr>\n",
       "   <td>No. Observations:</td>       <td>290584</td>       <td>Log-Likelihood:</td>  <td>-1.0639e+05</td>\n",
       "</tr>\n",
       "<tr>\n",
       "       <td>Df Model:</td>              <td>1</td>            <td>LL-Null:</td>      <td>-1.0639e+05</td>\n",
       "</tr>\n",
       "<tr>\n",
       "     <td>Df Residuals:</td>         <td>290582</td>        <td>LLR p-value:</td>      <td>0.18988</td>  \n",
       "</tr>\n",
       "<tr>\n",
       "      <td>Converged:</td>           <td>1.0000</td>           <td>Scale:</td>         <td>1.0000</td>   \n",
       "</tr>\n",
       "<tr>\n",
       "    <td>No. Iterations:</td>        <td>6.0000</td>              <td></td>               <td></td>      \n",
       "</tr>\n",
       "</table>\n",
       "<table class=\"simpletable\">\n",
       "<tr>\n",
       "      <td></td>       <th>Coef.</th>  <th>Std.Err.</th>     <th>z</th>      <th>P>|z|</th> <th>[0.025</th>  <th>0.975]</th> \n",
       "</tr>\n",
       "<tr>\n",
       "  <th>intercept</th> <td>-1.9888</td>  <td>0.0081</td>  <td>-246.6690</td> <td>0.0000</td> <td>-2.0046</td> <td>-1.9730</td>\n",
       "</tr>\n",
       "<tr>\n",
       "  <th>ab_page</th>   <td>-0.0150</td>  <td>0.0114</td>   <td>-1.3109</td>  <td>0.1899</td> <td>-0.0374</td> <td>0.0074</td> \n",
       "</tr>\n",
       "</table>"
      ],
      "text/plain": [
       "<class 'statsmodels.iolib.summary2.Summary'>\n",
       "\"\"\"\n",
       "                          Results: Logit\n",
       "==================================================================\n",
       "Model:              Logit            Pseudo R-squared: 0.000      \n",
       "Dependent Variable: converted        AIC:              212780.3502\n",
       "Date:               2022-07-21 10:00 BIC:              212801.5095\n",
       "No. Observations:   290584           Log-Likelihood:   -1.0639e+05\n",
       "Df Model:           1                LL-Null:          -1.0639e+05\n",
       "Df Residuals:       290582           LLR p-value:      0.18988    \n",
       "Converged:          1.0000           Scale:            1.0000     \n",
       "No. Iterations:     6.0000                                        \n",
       "-------------------------------------------------------------------\n",
       "              Coef.   Std.Err.      z      P>|z|    [0.025   0.975]\n",
       "-------------------------------------------------------------------\n",
       "intercept    -1.9888    0.0081  -246.6690  0.0000  -2.0046  -1.9730\n",
       "ab_page      -0.0150    0.0114    -1.3109  0.1899  -0.0374   0.0074\n",
       "==================================================================\n",
       "\n",
       "\"\"\""
      ]
     },
     "execution_count": 33,
     "metadata": {},
     "output_type": "execute_result"
    }
   ],
   "source": [
    "Resualt.summary2()"
   ]
  },
  {
   "cell_type": "markdown",
   "metadata": {},
   "source": [
    "e. What is the p-value associated with **ab_page**? Why does it differ from the value you found in **Part II**?<br><br>  **Hint**: What are the null and alternative hypotheses associated with your regression model, and how do they compare to the null and alternative hypotheses in the **Part II**?"
   ]
  },
  {
   "cell_type": "markdown",
   "metadata": {},
   "source": [
    "the p-value associated with ab_page is 1.9888 , P-Value > Type I error rate (0.05) this mean\n",
    "\n",
    "differ from the value you found in Part II\n",
    "\n",
    "p-value in Part II the null and alternative hypotheses :\n",
    "\n",
    "Null hypothese is  H0:  pold >=  pnew\n",
    " \n",
    "Alternative hypothese is  H1 :  pold <  pnew\n",
    " \n",
    "p-value in Part III the null and alternative regression model :\n",
    "\n",
    "Null hypothese is  H0 :  pold  -  pnew=0\n",
    "\n",
    "Alternative hypothese is  H1 :  pold  -  pnew  !=0"
   ]
  },
  {
   "cell_type": "markdown",
   "metadata": {},
   "source": [
    "f. Now, you are considering other things that might influence whether or not an individual converts.  Discuss why it is a good idea to consider other factors to add into your regression model.  Are there any disadvantages to adding additional terms into your regression model?"
   ]
  },
  {
   "cell_type": "markdown",
   "metadata": {},
   "source": [
    "yes there is other things that might influence whether or not an individual converts\n",
    "\n",
    "Disadvantages to adding additional terms into your regression model:\n",
    "\n",
    "-using incomplete data\n",
    "\n",
    "-falsely concluding that a correlation is a causation."
   ]
  },
  {
   "cell_type": "markdown",
   "metadata": {},
   "source": [
    "g. Now along with testing if the conversion rate changes for different pages, also add an effect based on which country a user lives. You will need to read in the **countries.csv** dataset and merge together your datasets on the approporiate rows.  [Here](https://pandas.pydata.org/pandas-docs/stable/generated/pandas.DataFrame.join.html) are the docs for joining tables. \n",
    "\n",
    "Does it appear that country had an impact on conversion?  Don't forget to create dummy variables for these country columns - **Hint: You will need two columns for the three dummy variables.** Provide the statistical output as well as a written response to answer this question."
   ]
  },
  {
   "cell_type": "code",
   "execution_count": 34,
   "metadata": {},
   "outputs": [
    {
     "data": {
      "text/plain": [
       "US    203619\n",
       "UK     72466\n",
       "CA     14499\n",
       "Name: country, dtype: int64"
      ]
     },
     "execution_count": 34,
     "metadata": {},
     "output_type": "execute_result"
    }
   ],
   "source": [
    "countries_df = pd.read_csv('./countries.csv')\n",
    "df_new = countries_df.set_index('user_id').join(df2.set_index('user_id'), how='inner')\n",
    "countries_df['country'].value_counts()"
   ]
  },
  {
   "cell_type": "code",
   "execution_count": 35,
   "metadata": {},
   "outputs": [
    {
     "data": {
      "text/html": [
       "<div>\n",
       "<style scoped>\n",
       "    .dataframe tbody tr th:only-of-type {\n",
       "        vertical-align: middle;\n",
       "    }\n",
       "\n",
       "    .dataframe tbody tr th {\n",
       "        vertical-align: top;\n",
       "    }\n",
       "\n",
       "    .dataframe thead th {\n",
       "        text-align: right;\n",
       "    }\n",
       "</style>\n",
       "<table border=\"1\" class=\"dataframe\">\n",
       "  <thead>\n",
       "    <tr style=\"text-align: right;\">\n",
       "      <th></th>\n",
       "      <th>user_id</th>\n",
       "      <th>timestamp</th>\n",
       "      <th>group</th>\n",
       "      <th>landing_page</th>\n",
       "      <th>converted</th>\n",
       "      <th>intercept</th>\n",
       "      <th>ab_page</th>\n",
       "      <th>country</th>\n",
       "    </tr>\n",
       "  </thead>\n",
       "  <tbody>\n",
       "    <tr>\n",
       "      <th>0</th>\n",
       "      <td>851104</td>\n",
       "      <td>2017-01-21 22:11:48.556739</td>\n",
       "      <td>control</td>\n",
       "      <td>old_page</td>\n",
       "      <td>0</td>\n",
       "      <td>1</td>\n",
       "      <td>0</td>\n",
       "      <td>US</td>\n",
       "    </tr>\n",
       "    <tr>\n",
       "      <th>1</th>\n",
       "      <td>804228</td>\n",
       "      <td>2017-01-12 08:01:45.159739</td>\n",
       "      <td>control</td>\n",
       "      <td>old_page</td>\n",
       "      <td>0</td>\n",
       "      <td>1</td>\n",
       "      <td>0</td>\n",
       "      <td>US</td>\n",
       "    </tr>\n",
       "    <tr>\n",
       "      <th>2</th>\n",
       "      <td>661590</td>\n",
       "      <td>2017-01-11 16:55:06.154213</td>\n",
       "      <td>treatment</td>\n",
       "      <td>new_page</td>\n",
       "      <td>0</td>\n",
       "      <td>1</td>\n",
       "      <td>1</td>\n",
       "      <td>US</td>\n",
       "    </tr>\n",
       "    <tr>\n",
       "      <th>3</th>\n",
       "      <td>853541</td>\n",
       "      <td>2017-01-08 18:28:03.143765</td>\n",
       "      <td>treatment</td>\n",
       "      <td>new_page</td>\n",
       "      <td>0</td>\n",
       "      <td>1</td>\n",
       "      <td>1</td>\n",
       "      <td>US</td>\n",
       "    </tr>\n",
       "    <tr>\n",
       "      <th>4</th>\n",
       "      <td>864975</td>\n",
       "      <td>2017-01-21 01:52:26.210827</td>\n",
       "      <td>control</td>\n",
       "      <td>old_page</td>\n",
       "      <td>1</td>\n",
       "      <td>1</td>\n",
       "      <td>0</td>\n",
       "      <td>US</td>\n",
       "    </tr>\n",
       "  </tbody>\n",
       "</table>\n",
       "</div>"
      ],
      "text/plain": [
       "   user_id                   timestamp      group landing_page  converted  \\\n",
       "0   851104  2017-01-21 22:11:48.556739    control     old_page          0   \n",
       "1   804228  2017-01-12 08:01:45.159739    control     old_page          0   \n",
       "2   661590  2017-01-11 16:55:06.154213  treatment     new_page          0   \n",
       "3   853541  2017-01-08 18:28:03.143765  treatment     new_page          0   \n",
       "4   864975  2017-01-21 01:52:26.210827    control     old_page          1   \n",
       "\n",
       "   intercept  ab_page country  \n",
       "0          1        0      US  \n",
       "1          1        0      US  \n",
       "2          1        1      US  \n",
       "3          1        1      US  \n",
       "4          1        0      US  "
      ]
     },
     "execution_count": 35,
     "metadata": {},
     "output_type": "execute_result"
    }
   ],
   "source": [
    "# Join with the df2 dataframe\n",
    "df_merged=df2.merge(countries_df,on='user_id',how='left')\n",
    "df_merged.head()"
   ]
  },
  {
   "cell_type": "code",
   "execution_count": 36,
   "metadata": {},
   "outputs": [
    {
     "data": {
      "text/html": [
       "<div>\n",
       "<style scoped>\n",
       "    .dataframe tbody tr th:only-of-type {\n",
       "        vertical-align: middle;\n",
       "    }\n",
       "\n",
       "    .dataframe tbody tr th {\n",
       "        vertical-align: top;\n",
       "    }\n",
       "\n",
       "    .dataframe thead th {\n",
       "        text-align: right;\n",
       "    }\n",
       "</style>\n",
       "<table border=\"1\" class=\"dataframe\">\n",
       "  <thead>\n",
       "    <tr style=\"text-align: right;\">\n",
       "      <th></th>\n",
       "      <th>user_id</th>\n",
       "      <th>timestamp</th>\n",
       "      <th>group</th>\n",
       "      <th>landing_page</th>\n",
       "      <th>converted</th>\n",
       "      <th>intercept</th>\n",
       "      <th>ab_page</th>\n",
       "      <th>country</th>\n",
       "      <th>CA</th>\n",
       "      <th>UK</th>\n",
       "      <th>US</th>\n",
       "    </tr>\n",
       "  </thead>\n",
       "  <tbody>\n",
       "    <tr>\n",
       "      <th>0</th>\n",
       "      <td>851104</td>\n",
       "      <td>2017-01-21 22:11:48.556739</td>\n",
       "      <td>control</td>\n",
       "      <td>old_page</td>\n",
       "      <td>0</td>\n",
       "      <td>1</td>\n",
       "      <td>0</td>\n",
       "      <td>US</td>\n",
       "      <td>0</td>\n",
       "      <td>0</td>\n",
       "      <td>1</td>\n",
       "    </tr>\n",
       "    <tr>\n",
       "      <th>1</th>\n",
       "      <td>804228</td>\n",
       "      <td>2017-01-12 08:01:45.159739</td>\n",
       "      <td>control</td>\n",
       "      <td>old_page</td>\n",
       "      <td>0</td>\n",
       "      <td>1</td>\n",
       "      <td>0</td>\n",
       "      <td>US</td>\n",
       "      <td>0</td>\n",
       "      <td>0</td>\n",
       "      <td>1</td>\n",
       "    </tr>\n",
       "    <tr>\n",
       "      <th>2</th>\n",
       "      <td>661590</td>\n",
       "      <td>2017-01-11 16:55:06.154213</td>\n",
       "      <td>treatment</td>\n",
       "      <td>new_page</td>\n",
       "      <td>0</td>\n",
       "      <td>1</td>\n",
       "      <td>1</td>\n",
       "      <td>US</td>\n",
       "      <td>0</td>\n",
       "      <td>0</td>\n",
       "      <td>1</td>\n",
       "    </tr>\n",
       "    <tr>\n",
       "      <th>3</th>\n",
       "      <td>853541</td>\n",
       "      <td>2017-01-08 18:28:03.143765</td>\n",
       "      <td>treatment</td>\n",
       "      <td>new_page</td>\n",
       "      <td>0</td>\n",
       "      <td>1</td>\n",
       "      <td>1</td>\n",
       "      <td>US</td>\n",
       "      <td>0</td>\n",
       "      <td>0</td>\n",
       "      <td>1</td>\n",
       "    </tr>\n",
       "    <tr>\n",
       "      <th>4</th>\n",
       "      <td>864975</td>\n",
       "      <td>2017-01-21 01:52:26.210827</td>\n",
       "      <td>control</td>\n",
       "      <td>old_page</td>\n",
       "      <td>1</td>\n",
       "      <td>1</td>\n",
       "      <td>0</td>\n",
       "      <td>US</td>\n",
       "      <td>0</td>\n",
       "      <td>0</td>\n",
       "      <td>1</td>\n",
       "    </tr>\n",
       "  </tbody>\n",
       "</table>\n",
       "</div>"
      ],
      "text/plain": [
       "   user_id                   timestamp      group landing_page  converted  \\\n",
       "0   851104  2017-01-21 22:11:48.556739    control     old_page          0   \n",
       "1   804228  2017-01-12 08:01:45.159739    control     old_page          0   \n",
       "2   661590  2017-01-11 16:55:06.154213  treatment     new_page          0   \n",
       "3   853541  2017-01-08 18:28:03.143765  treatment     new_page          0   \n",
       "4   864975  2017-01-21 01:52:26.210827    control     old_page          1   \n",
       "\n",
       "   intercept  ab_page country  CA  UK  US  \n",
       "0          1        0      US   0   0   1  \n",
       "1          1        0      US   0   0   1  \n",
       "2          1        1      US   0   0   1  \n",
       "3          1        1      US   0   0   1  \n",
       "4          1        0      US   0   0   1  "
      ]
     },
     "execution_count": 36,
     "metadata": {},
     "output_type": "execute_result"
    }
   ],
   "source": [
    "# Create the necessary dummy variables\n",
    "df_merged[['CA','UK','US']] = pd.get_dummies(df_merged['country'])\n",
    "df_merged.head()"
   ]
  },
  {
   "cell_type": "markdown",
   "metadata": {},
   "source": [
    "h. Though you have now looked at the individual factors of country and page on conversion, we would now like to look at an interaction between page and country to see if there significant effects on conversion.  Create the necessary additional columns, and fit the new model.  \n",
    "\n",
    "Provide the summary results, and your conclusions based on the results."
   ]
  },
  {
   "cell_type": "code",
   "execution_count": null,
   "metadata": {},
   "outputs": [],
   "source": []
  },
  {
   "cell_type": "code",
   "execution_count": 37,
   "metadata": {},
   "outputs": [
    {
     "name": "stdout",
     "output_type": "stream",
     "text": [
      "Optimization terminated successfully.\n",
      "         Current function value: 0.366113\n",
      "         Iterations 6\n"
     ]
    },
    {
     "data": {
      "text/plain": [
       "intercept   -2.030029\n",
       "ab_page     -0.014943\n",
       "UK           0.050640\n",
       "US           0.040757\n",
       "dtype: float64"
      ]
     },
     "execution_count": 37,
     "metadata": {},
     "output_type": "execute_result"
    }
   ],
   "source": [
    "# Fit your model, and summarize the results\n",
    "#Create intercept variable\n",
    "df_merged['intercept'] = 1\n",
    "logit_mod = sm.Logit(df_merged['converted'], df_merged[['intercept', 'ab_page', 'UK', 'US']])\n",
    "Result = logit_mod.fit()\n",
    "Result.params"
   ]
  },
  {
   "cell_type": "code",
   "execution_count": 38,
   "metadata": {},
   "outputs": [
    {
     "data": {
      "text/html": [
       "<table class=\"simpletable\">\n",
       "<tr>\n",
       "        <td>Model:</td>              <td>Logit</td>      <td>Pseudo R-squared:</td>    <td>0.000</td>   \n",
       "</tr>\n",
       "<tr>\n",
       "  <td>Dependent Variable:</td>     <td>converted</td>          <td>AIC:</td>        <td>212781.1253</td>\n",
       "</tr>\n",
       "<tr>\n",
       "         <td>Date:</td>        <td>2022-07-21 10:00</td>       <td>BIC:</td>        <td>212823.4439</td>\n",
       "</tr>\n",
       "<tr>\n",
       "   <td>No. Observations:</td>       <td>290584</td>       <td>Log-Likelihood:</td>  <td>-1.0639e+05</td>\n",
       "</tr>\n",
       "<tr>\n",
       "       <td>Df Model:</td>              <td>3</td>            <td>LL-Null:</td>      <td>-1.0639e+05</td>\n",
       "</tr>\n",
       "<tr>\n",
       "     <td>Df Residuals:</td>         <td>290580</td>        <td>LLR p-value:</td>      <td>0.17599</td>  \n",
       "</tr>\n",
       "<tr>\n",
       "      <td>Converged:</td>           <td>1.0000</td>           <td>Scale:</td>         <td>1.0000</td>   \n",
       "</tr>\n",
       "<tr>\n",
       "    <td>No. Iterations:</td>        <td>6.0000</td>              <td></td>               <td></td>      \n",
       "</tr>\n",
       "</table>\n",
       "<table class=\"simpletable\">\n",
       "<tr>\n",
       "      <td></td>       <th>Coef.</th>  <th>Std.Err.</th>     <th>z</th>     <th>P>|z|</th> <th>[0.025</th>  <th>0.975]</th> \n",
       "</tr>\n",
       "<tr>\n",
       "  <th>intercept</th> <td>-2.0300</td>  <td>0.0266</td>  <td>-76.2488</td> <td>0.0000</td> <td>-2.0822</td> <td>-1.9778</td>\n",
       "</tr>\n",
       "<tr>\n",
       "  <th>ab_page</th>   <td>-0.0149</td>  <td>0.0114</td>   <td>-1.3069</td> <td>0.1912</td> <td>-0.0374</td> <td>0.0075</td> \n",
       "</tr>\n",
       "<tr>\n",
       "  <th>UK</th>        <td>0.0506</td>   <td>0.0284</td>   <td>1.7835</td>  <td>0.0745</td> <td>-0.0050</td> <td>0.1063</td> \n",
       "</tr>\n",
       "<tr>\n",
       "  <th>US</th>        <td>0.0408</td>   <td>0.0269</td>   <td>1.5161</td>  <td>0.1295</td> <td>-0.0119</td> <td>0.0934</td> \n",
       "</tr>\n",
       "</table>"
      ],
      "text/plain": [
       "<class 'statsmodels.iolib.summary2.Summary'>\n",
       "\"\"\"\n",
       "                          Results: Logit\n",
       "==================================================================\n",
       "Model:              Logit            Pseudo R-squared: 0.000      \n",
       "Dependent Variable: converted        AIC:              212781.1253\n",
       "Date:               2022-07-21 10:00 BIC:              212823.4439\n",
       "No. Observations:   290584           Log-Likelihood:   -1.0639e+05\n",
       "Df Model:           3                LL-Null:          -1.0639e+05\n",
       "Df Residuals:       290580           LLR p-value:      0.17599    \n",
       "Converged:          1.0000           Scale:            1.0000     \n",
       "No. Iterations:     6.0000                                        \n",
       "-------------------------------------------------------------------\n",
       "               Coef.   Std.Err.     z      P>|z|    [0.025   0.975]\n",
       "-------------------------------------------------------------------\n",
       "intercept     -2.0300    0.0266  -76.2488  0.0000  -2.0822  -1.9778\n",
       "ab_page       -0.0149    0.0114   -1.3069  0.1912  -0.0374   0.0075\n",
       "UK             0.0506    0.0284    1.7835  0.0745  -0.0050   0.1063\n",
       "US             0.0408    0.0269    1.5161  0.1295  -0.0119   0.0934\n",
       "==================================================================\n",
       "\n",
       "\"\"\""
      ]
     },
     "execution_count": 38,
     "metadata": {},
     "output_type": "execute_result"
    }
   ],
   "source": [
    "Result.summary2()\n"
   ]
  },
  {
   "cell_type": "code",
   "execution_count": 39,
   "metadata": {},
   "outputs": [
    {
     "name": "stdout",
     "output_type": "stream",
     "text": [
      "Optimization terminated successfully.\n",
      "         Current function value: 0.366109\n",
      "         Iterations 6\n",
      "intercept    -1.986478\n",
      "ab_page      -0.020564\n",
      "UK           -0.005744\n",
      "CA           -0.017528\n",
      "UK_ab_page    0.031398\n",
      "CA_ab_page   -0.046885\n",
      "dtype: float64\n"
     ]
    },
    {
     "data": {
      "text/html": [
       "<table class=\"simpletable\">\n",
       "<tr>\n",
       "        <td>Model:</td>              <td>Logit</td>      <td>Pseudo R-squared:</td>    <td>0.000</td>   \n",
       "</tr>\n",
       "<tr>\n",
       "  <td>Dependent Variable:</td>     <td>converted</td>          <td>AIC:</td>        <td>212782.6602</td>\n",
       "</tr>\n",
       "<tr>\n",
       "         <td>Date:</td>        <td>2022-07-21 10:00</td>       <td>BIC:</td>        <td>212846.1381</td>\n",
       "</tr>\n",
       "<tr>\n",
       "   <td>No. Observations:</td>       <td>290584</td>       <td>Log-Likelihood:</td>  <td>-1.0639e+05</td>\n",
       "</tr>\n",
       "<tr>\n",
       "       <td>Df Model:</td>              <td>5</td>            <td>LL-Null:</td>      <td>-1.0639e+05</td>\n",
       "</tr>\n",
       "<tr>\n",
       "     <td>Df Residuals:</td>         <td>290578</td>        <td>LLR p-value:</td>      <td>0.19199</td>  \n",
       "</tr>\n",
       "<tr>\n",
       "      <td>Converged:</td>           <td>1.0000</td>           <td>Scale:</td>         <td>1.0000</td>   \n",
       "</tr>\n",
       "<tr>\n",
       "    <td>No. Iterations:</td>        <td>6.0000</td>              <td></td>               <td></td>      \n",
       "</tr>\n",
       "</table>\n",
       "<table class=\"simpletable\">\n",
       "<tr>\n",
       "       <td></td>       <th>Coef.</th>  <th>Std.Err.</th>     <th>z</th>      <th>P>|z|</th> <th>[0.025</th>  <th>0.975]</th> \n",
       "</tr>\n",
       "<tr>\n",
       "  <th>intercept</th>  <td>-1.9865</td>  <td>0.0096</td>  <td>-206.3440</td> <td>0.0000</td> <td>-2.0053</td> <td>-1.9676</td>\n",
       "</tr>\n",
       "<tr>\n",
       "  <th>ab_page</th>    <td>-0.0206</td>  <td>0.0137</td>   <td>-1.5052</td>  <td>0.1323</td> <td>-0.0473</td> <td>0.0062</td> \n",
       "</tr>\n",
       "<tr>\n",
       "  <th>UK</th>         <td>-0.0057</td>  <td>0.0188</td>   <td>-0.3057</td>  <td>0.7598</td> <td>-0.0426</td> <td>0.0311</td> \n",
       "</tr>\n",
       "<tr>\n",
       "  <th>CA</th>         <td>-0.0175</td>  <td>0.0377</td>   <td>-0.4652</td>  <td>0.6418</td> <td>-0.0914</td> <td>0.0563</td> \n",
       "</tr>\n",
       "<tr>\n",
       "  <th>UK_ab_page</th> <td>0.0314</td>   <td>0.0266</td>   <td>1.1807</td>   <td>0.2377</td> <td>-0.0207</td> <td>0.0835</td> \n",
       "</tr>\n",
       "<tr>\n",
       "  <th>CA_ab_page</th> <td>-0.0469</td>  <td>0.0538</td>   <td>-0.8718</td>  <td>0.3833</td> <td>-0.1523</td> <td>0.0585</td> \n",
       "</tr>\n",
       "</table>"
      ],
      "text/plain": [
       "<class 'statsmodels.iolib.summary2.Summary'>\n",
       "\"\"\"\n",
       "                          Results: Logit\n",
       "==================================================================\n",
       "Model:              Logit            Pseudo R-squared: 0.000      \n",
       "Dependent Variable: converted        AIC:              212782.6602\n",
       "Date:               2022-07-21 10:00 BIC:              212846.1381\n",
       "No. Observations:   290584           Log-Likelihood:   -1.0639e+05\n",
       "Df Model:           5                LL-Null:          -1.0639e+05\n",
       "Df Residuals:       290578           LLR p-value:      0.19199    \n",
       "Converged:          1.0000           Scale:            1.0000     \n",
       "No. Iterations:     6.0000                                        \n",
       "-------------------------------------------------------------------\n",
       "              Coef.   Std.Err.      z      P>|z|    [0.025   0.975]\n",
       "-------------------------------------------------------------------\n",
       "intercept    -1.9865    0.0096  -206.3440  0.0000  -2.0053  -1.9676\n",
       "ab_page      -0.0206    0.0137    -1.5052  0.1323  -0.0473   0.0062\n",
       "UK           -0.0057    0.0188    -0.3057  0.7598  -0.0426   0.0311\n",
       "CA           -0.0175    0.0377    -0.4652  0.6418  -0.0914   0.0563\n",
       "UK_ab_page    0.0314    0.0266     1.1807  0.2377  -0.0207   0.0835\n",
       "CA_ab_page   -0.0469    0.0538    -0.8718  0.3833  -0.1523   0.0585\n",
       "==================================================================\n",
       "\n",
       "\"\"\""
      ]
     },
     "execution_count": 39,
     "metadata": {},
     "output_type": "execute_result"
    }
   ],
   "source": [
    "df_merged['UK_ab_page'] = df_merged['UK']*df_merged['ab_page'] \n",
    "\n",
    "df_merged['CA_ab_page'] = df_merged['CA']*df_merged['ab_page'] \n",
    "\n",
    "logit3 = sm.Logit(df_merged['converted'], df_merged[['intercept', 'ab_page', 'UK', 'CA', 'UK_ab_page', 'CA_ab_page']])\n",
    "\n",
    "results = logit3.fit()\n",
    "print(results.params)\n",
    "results.summary2()"
   ]
  },
  {
   "cell_type": "markdown",
   "metadata": {},
   "source": [
    "- Look at all of p-values in the summary, and compare against the Type I error rate (0.05).\n",
    "    - the ab_page p-value associated is 0.1323 , P-Value > Type I error rate (0.05)\n",
    "    - the UK p-value associated is 0.7598 , P-Value > Type I error rate (0.05)\n",
    "    - the CA p-value associated is 0.6418 , P-Value > Type I error rate (0.05)\n",
    "    - the UK_ab_page p-value associated is 0.2377 , P-Value > Type I error rate (0.05)\n",
    "    - the CA_ab_page p-value associated is 0.3833 , P-Value > Type I error rate (0.05)\n",
    "- Can you reject/fail to reject the null hypotheses (regression model)?\n",
    "    - yes we fail to reject the null hypotheses\n",
    "- Comment on the effect of page and country to predict the conversion.\n",
    "    - The country do not appear to impact conversions."
   ]
  },
  {
   "cell_type": "markdown",
   "metadata": {},
   "source": [
    "<a id='conclusions'></a>\n",
    "## Conclusions\n",
    "\n",
    "#### After tests the three different tests, we came to the same result in all three, which is to keep the old page and not change it with the new page. As there is insufficient evidence to say that the new page conversion rate is higher than the old page conversion rate, and there is also no evidence that countries are affected by the conversion rate.\n",
    "\n",
    "#### It is better for the developer teams to design another new page or improve the old one."
   ]
  },
  {
   "cell_type": "code",
   "execution_count": null,
   "metadata": {},
   "outputs": [],
   "source": []
  }
 ],
 "metadata": {
  "kernelspec": {
   "display_name": "Python 3",
   "language": "python",
   "name": "python3"
  },
  "language_info": {
   "codemirror_mode": {
    "name": "ipython",
    "version": 3
   },
   "file_extension": ".py",
   "mimetype": "text/x-python",
   "name": "python",
   "nbconvert_exporter": "python",
   "pygments_lexer": "ipython3",
   "version": "3.7.6"
  }
 },
 "nbformat": 4,
 "nbformat_minor": 2
}
